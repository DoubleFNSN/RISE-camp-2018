{
 "cells": [
  {
   "cell_type": "markdown",
   "metadata": {},
   "source": [
    "# Part 2: Sharing and Composition\n",
    "\n",
    "In this part, we're going to show you (a) how to interpret a Flor experiment that someone else has shared with you, and (b) how you can re-use the artifacts of someone else's experiment in your own experiment. "
   ]
  },
  {
   "cell_type": "markdown",
   "metadata": {},
   "source": [
    "## Prepare your environment before starting the activities.\n",
    "\n",
    "We're going to start by importing Flor and letting it know the name of our notebook."
   ]
  },
  {
   "cell_type": "code",
   "execution_count": 18,
   "metadata": {},
   "outputs": [],
   "source": [
    "# Import Flor\n",
    "import flor\n",
    "\n",
    "import pandas as pd\n",
    "\n",
    "from sklearn.feature_extraction.text import TfidfVectorizer\n",
    "from sklearn.model_selection import train_test_split\n",
    "from sklearn.ensemble import RandomForestClassifier\n",
    "from sklearn.metrics import classification_report\n",
    "\n",
    "# If the notebook name has not already been set, you are able to set the name in code. \n",
    "flor.setNotebookName('tutorial_2.ipynb')"
   ]
  },
  {
   "cell_type": "markdown",
   "metadata": {},
   "source": [
    "## Interpreting someone else's work in Flor\n",
    "\n",
    "In this next exercise, as in many \"real-world\" cases, you'll be joining an in-progress model development effort. Bob, a fellow member of your team, has already attempted two different data-preprocessing steps. Bob tells us he's done some preprocessing on text data and recommends we should try his preprocessed data. He tells us the name of his experiment: `bob_preproc`.\n",
    "\n",
    "Run the cell below but notice that we are using a different experiment name (`bob_preproc` rather than `risecamp_demo`). Here, we are going to summarize someone else's past experiment versions."
   ]
  },
  {
   "cell_type": "code",
   "execution_count": 19,
   "metadata": {},
   "outputs": [
    {
     "data": {
      "text/html": [
       "<div>\n",
       "<style scoped>\n",
       "    .dataframe tbody tr th:only-of-type {\n",
       "        vertical-align: middle;\n",
       "    }\n",
       "\n",
       "    .dataframe tbody tr th {\n",
       "        vertical-align: top;\n",
       "    }\n",
       "\n",
       "    .dataframe thead th {\n",
       "        text-align: right;\n",
       "    }\n",
       "</style>\n",
       "<table border=\"1\" class=\"dataframe\">\n",
       "  <thead>\n",
       "    <tr style=\"text-align: right;\">\n",
       "      <th></th>\n",
       "      <th>label</th>\n",
       "      <th>preprocess</th>\n",
       "      <th>intermediate_X</th>\n",
       "      <th>data_loc</th>\n",
       "      <th>intermediate_y</th>\n",
       "    </tr>\n",
       "  </thead>\n",
       "  <tbody>\n",
       "    <tr>\n",
       "      <th>0</th>\n",
       "      <td>second_preproc</td>\n",
       "      <td>preprocess_4489614728.py</td>\n",
       "      <td>data_clean_X_112394722104.json</td>\n",
       "      <td>data_112399744192.json</td>\n",
       "      <td>data_clean_y_112394719416.json</td>\n",
       "    </tr>\n",
       "    <tr>\n",
       "      <th>1</th>\n",
       "      <td>first_preproc</td>\n",
       "      <td>preprocess_111988784040.py</td>\n",
       "      <td>data_clean_X_111988783760.json</td>\n",
       "      <td>data_111988784768.json</td>\n",
       "      <td>data_clean_y_111988784208.json</td>\n",
       "    </tr>\n",
       "  </tbody>\n",
       "</table>\n",
       "</div>"
      ],
      "text/plain": [
       "            label                  preprocess                  intermediate_X  \\\n",
       "0  second_preproc    preprocess_4489614728.py  data_clean_X_112394722104.json   \n",
       "1   first_preproc  preprocess_111988784040.py  data_clean_X_111988783760.json   \n",
       "\n",
       "                 data_loc                  intermediate_y  \n",
       "0  data_112399744192.json  data_clean_y_112394719416.json  \n",
       "1  data_111988784768.json  data_clean_y_111988784208.json  "
      ]
     },
     "execution_count": 19,
     "metadata": {},
     "output_type": "execute_result"
    }
   ],
   "source": [
    "flor.Experiment('bob_preproc').summarize()"
   ]
  },
  {
   "cell_type": "markdown",
   "metadata": {},
   "source": [
    "Let's interpret the output. The first column, `label`, lists the different versions of the experiment by name. We can see there are two past versions of the experiment `bob_preproc`: `first_preproc`, and `second_preproc`.  Now, let's pause for a second, run the next cell, and continue reading."
   ]
  },
  {
   "cell_type": "code",
   "execution_count": 20,
   "metadata": {},
   "outputs": [
    {
     "data": {
      "image/svg+xml": [
       "<?xml version=\"1.0\" encoding=\"UTF-8\" standalone=\"no\"?>\n",
       "<!DOCTYPE svg PUBLIC \"-//W3C//DTD SVG 1.1//EN\"\n",
       " \"http://www.w3.org/Graphics/SVG/1.1/DTD/svg11.dtd\">\n",
       "<!-- Generated by graphviz version 2.40.1 (20161225.0304)\n",
       " -->\n",
       "<!-- Title: source Pages: 1 -->\n",
       "<svg width=\"232pt\" height=\"188pt\"\n",
       " viewBox=\"0.00 0.00 231.50 188.00\" xmlns=\"http://www.w3.org/2000/svg\" xmlns:xlink=\"http://www.w3.org/1999/xlink\">\n",
       "<g id=\"graph0\" class=\"graph\" transform=\"scale(1 1) rotate(0) translate(4 184)\">\n",
       "<title>source</title>\n",
       "<polygon fill=\"#ffffff\" stroke=\"transparent\" points=\"-4,4 -4,-184 227.5,-184 227.5,4 -4,4\"/>\n",
       "<!-- 3 -->\n",
       "<g id=\"node1\" class=\"node\">\n",
       "<title>3</title>\n",
       "<polygon fill=\"none\" stroke=\"#000000\" points=\"106.5,-180 29.5,-180 29.5,-144 106.5,-144 106.5,-180\"/>\n",
       "<text text-anchor=\"middle\" x=\"68\" y=\"-158.3\" font-family=\"Times,serif\" font-size=\"14.00\" fill=\"#000000\">preprocess</text>\n",
       "</g>\n",
       "<!-- 2 -->\n",
       "<g id=\"node3\" class=\"node\">\n",
       "<title>2</title>\n",
       "<ellipse fill=\"none\" stroke=\"#000000\" cx=\"112\" cy=\"-90\" rx=\"61.99\" ry=\"18\"/>\n",
       "<text text-anchor=\"middle\" x=\"112\" y=\"-86.3\" font-family=\"Times,serif\" font-size=\"14.00\" fill=\"#000000\">preprocessing</text>\n",
       "</g>\n",
       "<!-- 3&#45;&gt;2 -->\n",
       "<g id=\"edge1\" class=\"edge\">\n",
       "<title>3&#45;&gt;2</title>\n",
       "<path fill=\"none\" stroke=\"#000000\" d=\"M79.1031,-143.8314C84.1438,-135.5829 90.2056,-125.6635 95.7449,-116.5992\"/>\n",
       "<polygon fill=\"#000000\" stroke=\"#000000\" points=\"98.8249,-118.2713 101.0529,-107.9134 92.8519,-114.6212 98.8249,-118.2713\"/>\n",
       "</g>\n",
       "<!-- 4 -->\n",
       "<g id=\"node2\" class=\"node\">\n",
       "<title>4</title>\n",
       "<polygon fill=\"none\" stroke=\"#000000\" points=\"189.5,-180 124.5,-180 124.5,-144 189.5,-144 189.5,-180\"/>\n",
       "<text text-anchor=\"middle\" x=\"157\" y=\"-158.3\" font-family=\"Times,serif\" font-size=\"14.00\" fill=\"#000000\">data_loc</text>\n",
       "</g>\n",
       "<!-- 4&#45;&gt;2 -->\n",
       "<g id=\"edge2\" class=\"edge\">\n",
       "<title>4&#45;&gt;2</title>\n",
       "<path fill=\"none\" stroke=\"#000000\" d=\"M145.6446,-143.8314C140.4893,-135.5829 134.2897,-125.6635 128.6245,-116.5992\"/>\n",
       "<polygon fill=\"#000000\" stroke=\"#000000\" points=\"131.4639,-114.5384 123.1959,-107.9134 125.5279,-118.2484 131.4639,-114.5384\"/>\n",
       "</g>\n",
       "<!-- 0 -->\n",
       "<g id=\"node4\" class=\"node\">\n",
       "<title>0</title>\n",
       "<polygon fill=\"none\" stroke=\"#000000\" points=\"104,-36 0,-36 0,0 104,0 104,-36\"/>\n",
       "<text text-anchor=\"middle\" x=\"52\" y=\"-14.3\" font-family=\"Times,serif\" font-size=\"14.00\" fill=\"#000000\">intermediate_X</text>\n",
       "</g>\n",
       "<!-- 2&#45;&gt;0 -->\n",
       "<g id=\"edge3\" class=\"edge\">\n",
       "<title>2&#45;&gt;0</title>\n",
       "<path fill=\"none\" stroke=\"#000000\" d=\"M97.1685,-72.2022C90.0827,-63.6992 81.4648,-53.3577 73.6637,-43.9965\"/>\n",
       "<polygon fill=\"#000000\" stroke=\"#000000\" points=\"76.1683,-41.5347 67.0776,-36.0931 70.7907,-46.016 76.1683,-41.5347\"/>\n",
       "</g>\n",
       "<!-- 1 -->\n",
       "<g id=\"node5\" class=\"node\">\n",
       "<title>1</title>\n",
       "<polygon fill=\"none\" stroke=\"#000000\" points=\"223.5,-36 122.5,-36 122.5,0 223.5,0 223.5,-36\"/>\n",
       "<text text-anchor=\"middle\" x=\"173\" y=\"-14.3\" font-family=\"Times,serif\" font-size=\"14.00\" fill=\"#000000\">intermediate_y</text>\n",
       "</g>\n",
       "<!-- 2&#45;&gt;1 -->\n",
       "<g id=\"edge4\" class=\"edge\">\n",
       "<title>2&#45;&gt;1</title>\n",
       "<path fill=\"none\" stroke=\"#000000\" d=\"M127.0787,-72.2022C134.2826,-63.6992 143.0441,-53.3577 150.9752,-43.9965\"/>\n",
       "<polygon fill=\"#000000\" stroke=\"#000000\" points=\"153.8774,-45.9855 157.6711,-36.0931 148.5364,-41.4605 153.8774,-45.9855\"/>\n",
       "</g>\n",
       "</g>\n",
       "</svg>\n"
      ],
      "text/plain": [
       "<graphviz.files.Source at 0x7f46feb0acf8>"
      ]
     },
     "execution_count": 20,
     "metadata": {},
     "output_type": "execute_result"
    }
   ],
   "source": [
    "flor.Experiment('bob_preproc').plot('first_preproc')"
   ]
  },
  {
   "cell_type": "markdown",
   "metadata": {},
   "source": [
    "We can now see the structure of the Flor Plan for Bob's preprocessing expriment. We see that there are four (4) rectangles: \n",
    "* Inputs: `preprocess`, `data_loc`\n",
    "* Outputs: `intermediate_X`, and `intermediate_y`.\n",
    "\n",
    "Notice how the names in the Flor Plan correspond to the names in the columns of the Summary Table."
   ]
  },
  {
   "cell_type": "markdown",
   "metadata": {},
   "source": [
    "Next, we inspect the structure of the dataflow graph for the second version of Bob's experiment:"
   ]
  },
  {
   "cell_type": "code",
   "execution_count": 21,
   "metadata": {},
   "outputs": [
    {
     "data": {
      "image/svg+xml": [
       "<?xml version=\"1.0\" encoding=\"UTF-8\" standalone=\"no\"?>\n",
       "<!DOCTYPE svg PUBLIC \"-//W3C//DTD SVG 1.1//EN\"\n",
       " \"http://www.w3.org/Graphics/SVG/1.1/DTD/svg11.dtd\">\n",
       "<!-- Generated by graphviz version 2.40.1 (20161225.0304)\n",
       " -->\n",
       "<!-- Title: source Pages: 1 -->\n",
       "<svg width=\"232pt\" height=\"188pt\"\n",
       " viewBox=\"0.00 0.00 231.50 188.00\" xmlns=\"http://www.w3.org/2000/svg\" xmlns:xlink=\"http://www.w3.org/1999/xlink\">\n",
       "<g id=\"graph0\" class=\"graph\" transform=\"scale(1 1) rotate(0) translate(4 184)\">\n",
       "<title>source</title>\n",
       "<polygon fill=\"#ffffff\" stroke=\"transparent\" points=\"-4,4 -4,-184 227.5,-184 227.5,4 -4,4\"/>\n",
       "<!-- 3 -->\n",
       "<g id=\"node1\" class=\"node\">\n",
       "<title>3</title>\n",
       "<polygon fill=\"none\" stroke=\"#000000\" points=\"106.5,-180 29.5,-180 29.5,-144 106.5,-144 106.5,-180\"/>\n",
       "<text text-anchor=\"middle\" x=\"68\" y=\"-158.3\" font-family=\"Times,serif\" font-size=\"14.00\" fill=\"#000000\">preprocess</text>\n",
       "</g>\n",
       "<!-- 2 -->\n",
       "<g id=\"node3\" class=\"node\">\n",
       "<title>2</title>\n",
       "<ellipse fill=\"none\" stroke=\"#000000\" cx=\"112\" cy=\"-90\" rx=\"61.99\" ry=\"18\"/>\n",
       "<text text-anchor=\"middle\" x=\"112\" y=\"-86.3\" font-family=\"Times,serif\" font-size=\"14.00\" fill=\"#000000\">preprocessing</text>\n",
       "</g>\n",
       "<!-- 3&#45;&gt;2 -->\n",
       "<g id=\"edge1\" class=\"edge\">\n",
       "<title>3&#45;&gt;2</title>\n",
       "<path fill=\"none\" stroke=\"#000000\" d=\"M79.1031,-143.8314C84.1438,-135.5829 90.2056,-125.6635 95.7449,-116.5992\"/>\n",
       "<polygon fill=\"#000000\" stroke=\"#000000\" points=\"98.8249,-118.2713 101.0529,-107.9134 92.8519,-114.6212 98.8249,-118.2713\"/>\n",
       "</g>\n",
       "<!-- 4 -->\n",
       "<g id=\"node2\" class=\"node\">\n",
       "<title>4</title>\n",
       "<polygon fill=\"none\" stroke=\"#000000\" points=\"189.5,-180 124.5,-180 124.5,-144 189.5,-144 189.5,-180\"/>\n",
       "<text text-anchor=\"middle\" x=\"157\" y=\"-158.3\" font-family=\"Times,serif\" font-size=\"14.00\" fill=\"#000000\">data_loc</text>\n",
       "</g>\n",
       "<!-- 4&#45;&gt;2 -->\n",
       "<g id=\"edge2\" class=\"edge\">\n",
       "<title>4&#45;&gt;2</title>\n",
       "<path fill=\"none\" stroke=\"#000000\" d=\"M145.6446,-143.8314C140.4893,-135.5829 134.2897,-125.6635 128.6245,-116.5992\"/>\n",
       "<polygon fill=\"#000000\" stroke=\"#000000\" points=\"131.4639,-114.5384 123.1959,-107.9134 125.5279,-118.2484 131.4639,-114.5384\"/>\n",
       "</g>\n",
       "<!-- 0 -->\n",
       "<g id=\"node4\" class=\"node\">\n",
       "<title>0</title>\n",
       "<polygon fill=\"none\" stroke=\"#000000\" points=\"104,-36 0,-36 0,0 104,0 104,-36\"/>\n",
       "<text text-anchor=\"middle\" x=\"52\" y=\"-14.3\" font-family=\"Times,serif\" font-size=\"14.00\" fill=\"#000000\">intermediate_X</text>\n",
       "</g>\n",
       "<!-- 2&#45;&gt;0 -->\n",
       "<g id=\"edge3\" class=\"edge\">\n",
       "<title>2&#45;&gt;0</title>\n",
       "<path fill=\"none\" stroke=\"#000000\" d=\"M97.1685,-72.2022C90.0827,-63.6992 81.4648,-53.3577 73.6637,-43.9965\"/>\n",
       "<polygon fill=\"#000000\" stroke=\"#000000\" points=\"76.1683,-41.5347 67.0776,-36.0931 70.7907,-46.016 76.1683,-41.5347\"/>\n",
       "</g>\n",
       "<!-- 1 -->\n",
       "<g id=\"node5\" class=\"node\">\n",
       "<title>1</title>\n",
       "<polygon fill=\"none\" stroke=\"#000000\" points=\"223.5,-36 122.5,-36 122.5,0 223.5,0 223.5,-36\"/>\n",
       "<text text-anchor=\"middle\" x=\"173\" y=\"-14.3\" font-family=\"Times,serif\" font-size=\"14.00\" fill=\"#000000\">intermediate_y</text>\n",
       "</g>\n",
       "<!-- 2&#45;&gt;1 -->\n",
       "<g id=\"edge4\" class=\"edge\">\n",
       "<title>2&#45;&gt;1</title>\n",
       "<path fill=\"none\" stroke=\"#000000\" d=\"M127.0787,-72.2022C134.2826,-63.6992 143.0441,-53.3577 150.9752,-43.9965\"/>\n",
       "<polygon fill=\"#000000\" stroke=\"#000000\" points=\"153.8774,-45.9855 157.6711,-36.0931 148.5364,-41.4605 153.8774,-45.9855\"/>\n",
       "</g>\n",
       "</g>\n",
       "</svg>\n"
      ],
      "text/plain": [
       "<graphviz.files.Source at 0x7f46feb0add8>"
      ]
     },
     "execution_count": 21,
     "metadata": {},
     "output_type": "execute_result"
    }
   ],
   "source": [
    "flor.Experiment('bob_preproc').plot('second_preproc')"
   ]
  },
  {
   "cell_type": "markdown",
   "metadata": {},
   "source": [
    "We see that both node-link diagrams look the same. This means that the structure of the different experiment versions is the same; however, it is very likely that the contents of the computation graph differ. To see where the difference is, we `diff` the two versions of Bob's experiment."
   ]
  },
  {
   "cell_type": "code",
   "execution_count": 22,
   "metadata": {},
   "outputs": [
    {
     "name": "stdout",
     "output_type": "stream",
     "text": [
      "These files are different:\n",
      "experiment_graph.pkl\n",
      "preprocess.py\n",
      "tutorial.ipynb\n",
      "\n"
     ]
    }
   ],
   "source": [
    "flor.Experiment('bob_preproc').diff('first_preproc', 'second_preproc')"
   ]
  },
  {
   "cell_type": "markdown",
   "metadata": {},
   "source": [
    "We see that `preprocess.py` was modified, so Bob probably tried two different preprocessing techniques. We see that `tutorial.ipynb` changed, probably because Bob ran a cell another time and that is enough to change a Jupyter notebook. Finally, you can see that a file called `experiment_graph.pkl` changed; this is internal information for Flor that we can ignore for now.\n",
    "\n",
    "If we want to inspect the differences in more detail, we can do so by controlling the flags to `diff`. Below we add the flag `--minimal`, but you're welcome to try [other flags](https://git-scm.com/docs/git-diff)."
   ]
  },
  {
   "cell_type": "code",
   "execution_count": 23,
   "metadata": {
    "scrolled": true
   },
   "outputs": [
    {
     "name": "stdout",
     "output_type": "stream",
     "text": [
      "These files are different:\n",
      "\u001b[1mdiff --git a/experiment_graph.pkl b/experiment_graph.pkl\u001b[m\n",
      "\u001b[1mindex 365f32a..ea7912d 100644\u001b[m\n",
      "Binary files a/experiment_graph.pkl and b/experiment_graph.pkl differ\n",
      "\u001b[1mdiff --git a/preprocess.py b/preprocess.py\u001b[m\n",
      "\u001b[1mindex ecc79d9..9484ac2 100644\u001b[m\n",
      "\u001b[1m--- a/preprocess.py\u001b[m\n",
      "\u001b[1m+++ b/preprocess.py\u001b[m\n",
      "\u001b[36m@@ -80,8 +80,8 @@\u001b[m \u001b[mdef preprocessing(data_loc, intermediate_X, intermediate_y, **kwargs):\u001b[m\n",
      "         return ret_str \u001b[m\n",
      " \u001b[m\n",
      "     start_time = time.time()\u001b[m\n",
      "\u001b[31m-#     X = [filter_sentence(el) for el in X]\u001b[m\n",
      "\u001b[31m-    X = [train_drop(el) for el in X]\u001b[m\n",
      "\u001b[32m+\u001b[m\u001b[32m    X = [filter_sentence(el) for el in X]\u001b[m\n",
      "\u001b[32m+\u001b[m\u001b[32m#     X = [train_drop(el) for el in X]\u001b[m\n",
      "     print(\"--- %s seconds ---\" % (time.time() - start_time))\u001b[m\n",
      " \u001b[m\n",
      "     y_new = []\u001b[m\n",
      "\u001b[1mdiff --git a/tutorial.ipynb b/tutorial.ipynb\u001b[m\n",
      "\u001b[1mindex a22b3ef..35531f0 100644\u001b[m\n",
      "\u001b[1m--- a/tutorial.ipynb\u001b[m\n",
      "\u001b[1m+++ b/tutorial.ipynb\u001b[m\n",
      "\u001b[36m@@ -31,7 +31,7 @@\u001b[m\n",
      "   },\u001b[m\n",
      "   {\u001b[m\n",
      "    \"cell_type\": \"code\",\u001b[m\n",
      "\u001b[31m-   \"execution_count\": null,\u001b[m\n",
      "\u001b[32m+\u001b[m\u001b[32m   \"execution_count\": 1,\u001b[m\n",
      "    \"metadata\": {},\u001b[m\n",
      "    \"outputs\": [],\u001b[m\n",
      "    \"source\": [\u001b[m\n",
      "\u001b[36m@@ -68,7 +68,7 @@\u001b[m\n",
      "   },\u001b[m\n",
      "   {\u001b[m\n",
      "    \"cell_type\": \"code\",\u001b[m\n",
      "\u001b[31m-   \"execution_count\": null,\u001b[m\n",
      "\u001b[32m+\u001b[m\u001b[32m   \"execution_count\": 2,\u001b[m\n",
      "    \"metadata\": {},\u001b[m\n",
      "    \"outputs\": [],\u001b[m\n",
      "    \"source\": [\u001b[m\n",
      "\u001b[36m@@ -78,7 +78,7 @@\u001b[m\n",
      "   },\u001b[m\n",
      "   {\u001b[m\n",
      "    \"cell_type\": \"code\",\u001b[m\n",
      "\u001b[31m-   \"execution_count\": null,\u001b[m\n",
      "\u001b[32m+\u001b[m\u001b[32m   \"execution_count\": 3,\u001b[m\n",
      "    \"metadata\": {},\u001b[m\n",
      "    \"outputs\": [],\u001b[m\n",
      "    \"source\": [\u001b[m\n",
      "\u001b[36m@@ -100,7 +100,7 @@\u001b[m\n",
      "   },\u001b[m\n",
      "   {\u001b[m\n",
      "    \"cell_type\": \"code\",\u001b[m\n",
      "\u001b[31m-   \"execution_count\": null,\u001b[m\n",
      "\u001b[32m+\u001b[m\u001b[32m   \"execution_count\": 8,\u001b[m\n",
      "    \"metadata\": {},\u001b[m\n",
      "    \"outputs\": [],\u001b[m\n",
      "    \"source\": [\u001b[m\n",
      "\u001b[36m@@ -156,7 +156,7 @@\u001b[m\n",
      "   },\u001b[m\n",
      "   {\u001b[m\n",
      "    \"cell_type\": \"code\",\u001b[m\n",
      "\u001b[31m-   \"execution_count\": null,\u001b[m\n",
      "\u001b[32m+\u001b[m\u001b[32m   \"execution_count\": 9,\u001b[m\n",
      "    \"metadata\": {},\u001b[m\n",
      "    \"outputs\": [],\u001b[m\n",
      "    \"source\": [\u001b[m\n",
      "\u001b[36m@@ -165,7 +165,7 @@\u001b[m\n",
      "   },\u001b[m\n",
      "   {\u001b[m\n",
      "    \"cell_type\": \"code\",\u001b[m\n",
      "\u001b[31m-   \"execution_count\": null,\u001b[m\n",
      "\u001b[32m+\u001b[m\u001b[32m   \"execution_count\": 10,\u001b[m\n",
      "    \"metadata\": {},\u001b[m\n",
      "    \"outputs\": [],\u001b[m\n",
      "    \"source\": [\u001b[m\n",
      "\u001b[36m@@ -180,7 +180,15 @@\u001b[m\n",
      "    \"cell_type\": \"code\",\u001b[m\n",
      "    \"execution_count\": null,\u001b[m\n",
      "    \"metadata\": {},\u001b[m\n",
      "\u001b[31m-   \"outputs\": [],\u001b[m\n",
      "\u001b[32m+\u001b[m\u001b[32m   \"outputs\": [\u001b[m\n",
      "\u001b[32m+\u001b[m\u001b[32m    {\u001b[m\n",
      "\u001b[32m+\u001b[m\u001b[32m     \"name\": \"stdout\",\u001b[m\n",
      "\u001b[32m+\u001b[m\u001b[32m     \"output_type\": \"stream\",\u001b[m\n",
      "\u001b[32m+\u001b[m\u001b[32m     \"text\": [\u001b[m\n",
      "\u001b[32m+\u001b[m\u001b[32m      \"Data Preprocessing\\n\"\u001b[m\n",
      "\u001b[32m+\u001b[m\u001b[32m     ]\u001b[m\n",
      "\u001b[32m+\u001b[m\u001b[32m    }\u001b[m\n",
      "\u001b[32m+\u001b[m\u001b[32m   ],\u001b[m\n",
      "    \"source\": [\u001b[m\n",
      "     \"data_x.pull(utag='second_preproc')\"\u001b[m\n",
      "    ]\u001b[m\n",
      "\n"
     ]
    }
   ],
   "source": [
    "flor.Experiment('bob_preproc').diff('first_preproc', 'second_preproc', flags=['--minimal'])"
   ]
  },
  {
   "cell_type": "markdown",
   "metadata": {},
   "source": [
    "At this point, we've used Flor to learn a bit about the preprocessing pipeline we inherited from Bob. Now let's start _using_ the preprocessed data he created; we'll inspect the preprocessing pipeline more deeply if/when we need to."
   ]
  },
  {
   "cell_type": "markdown",
   "metadata": {},
   "source": [
    "## Beyond the Basic Flor API: Flor's Extended API\n",
    "In `tutorial_1.ipynb`, we used the `flor.track_action` decorator to wrap a pipeline and execute it with a minimum of extra Flor wrapper code. `track_action` infers a simple underlying Flor Plan for our code. We refer to functions wrapped with `track_action` as Flor's *basic* API. \n",
    "\n",
    "Although that minimalist use of Flor for wrapping pipelines is convenient, it has limited expressivity. In the next cell, we wrap our functions with the `flor.func` decorator, which exposes what we call Flor's *extended* API. The extended API requires the developer to explicitly declare a Flor Plan. This allows us to represent pipelines with many Actions, and enables us to re-use the Artifacts of someone else's experiment. This will require a bit more Flor annotation than our previous example, but it will also give us more detailed information."
   ]
  },
  {
   "cell_type": "markdown",
   "metadata": {},
   "source": [
    "## Using someone else's work in Flor"
   ]
  },
  {
   "cell_type": "markdown",
   "metadata": {},
   "source": [
    "Having seen how we can \"inherit\" a Flor experiment, we will now see how two different users of Flor can share their experiments and the artifacts that they derive or consume.\n",
    "\n",
    "Below, we copy/pasted the pipeline you worked on in `tutorial_1.ipynb`. We made the following changes: \n",
    "1. We switched from the basic to the extended Flor syntax. Notice the first lines: we use the `flor.func` decorator rather than `flor.track_action`.\n",
    "2. Rather than preprocessing data ourselves, we pass in Bob's `intermediate_X` and `intermediate_y` artifacts\n",
    "\n",
    "As before, we highlight the changes in `###`."
   ]
  },
  {
   "cell_type": "markdown",
   "metadata": {},
   "source": [
    "Here's a reminder of what the previous experiment versions look like:"
   ]
  },
  {
   "cell_type": "code",
   "execution_count": 24,
   "metadata": {},
   "outputs": [
    {
     "data": {
      "text/html": [
       "<div>\n",
       "<style scoped>\n",
       "    .dataframe tbody tr th:only-of-type {\n",
       "        vertical-align: middle;\n",
       "    }\n",
       "\n",
       "    .dataframe tbody tr th {\n",
       "        vertical-align: top;\n",
       "    }\n",
       "\n",
       "    .dataframe thead th {\n",
       "        text-align: right;\n",
       "    }\n",
       "</style>\n",
       "<table border=\"1\" class=\"dataframe\">\n",
       "  <thead>\n",
       "    <tr style=\"text-align: right;\">\n",
       "      <th></th>\n",
       "      <th>label</th>\n",
       "      <th>preprocess</th>\n",
       "      <th>data_loc</th>\n",
       "      <th>intermediate_y</th>\n",
       "      <th>intermediate_X</th>\n",
       "    </tr>\n",
       "  </thead>\n",
       "  <tbody>\n",
       "    <tr>\n",
       "      <th>0</th>\n",
       "      <td>second_preproc</td>\n",
       "      <td>preprocess_4489614728.py</td>\n",
       "      <td>data_112399744192.json</td>\n",
       "      <td>data_clean_y_112394719416.json</td>\n",
       "      <td>data_clean_X_112394722104.json</td>\n",
       "    </tr>\n",
       "    <tr>\n",
       "      <th>1</th>\n",
       "      <td>first_preproc</td>\n",
       "      <td>preprocess_111988784040.py</td>\n",
       "      <td>data_111988784768.json</td>\n",
       "      <td>data_clean_y_111988784208.json</td>\n",
       "      <td>data_clean_X_111988783760.json</td>\n",
       "    </tr>\n",
       "  </tbody>\n",
       "</table>\n",
       "</div>"
      ],
      "text/plain": [
       "            label                  preprocess                data_loc  \\\n",
       "0  second_preproc    preprocess_4489614728.py  data_112399744192.json   \n",
       "1   first_preproc  preprocess_111988784040.py  data_111988784768.json   \n",
       "\n",
       "                   intermediate_y                  intermediate_X  \n",
       "0  data_clean_y_112394719416.json  data_clean_X_112394722104.json  \n",
       "1  data_clean_y_111988784208.json  data_clean_X_111988783760.json  "
      ]
     },
     "execution_count": 24,
     "metadata": {},
     "output_type": "execute_result"
    }
   ],
   "source": [
    "flor.Experiment('bob_preproc').summarize()"
   ]
  },
  {
   "cell_type": "code",
   "execution_count": 25,
   "metadata": {},
   "outputs": [],
   "source": [
    "##########\n",
    "@flor.func\n",
    "##########               ##############  ##############\n",
    "def split_train_and_eval(intermediate_X, intermediate_y, n_estimators, max_depth, **kwargs):\n",
    "                         ##############  ##############\n",
    "    import pandas as pd\n",
    "    import json\n",
    "\n",
    "    from sklearn.feature_extraction.text import TfidfVectorizer\n",
    "    from sklearn.model_selection import train_test_split\n",
    "    from sklearn.ensemble import RandomForestClassifier\n",
    "    from sklearn.metrics import classification_report\n",
    "            \n",
    "              ##############\n",
    "    with open(intermediate_X) as json_data:\n",
    "              ##############\n",
    "        X = json.load(json_data)\n",
    "        json_data.close()\n",
    "        \n",
    "              ##############\n",
    "    with open(intermediate_y) as json_data:\n",
    "              ##############\n",
    "        y = json.load(json_data)\n",
    "        json_data.close()\n",
    "\n",
    "    X_tr, X_te, y_tr, y_te = train_test_split(X, y, test_size=0.20, random_state=92)\n",
    "\n",
    "    vectorizer = TfidfVectorizer()\n",
    "    vectorizer.fit(X_tr)\n",
    "    X_tr = vectorizer.transform(X_tr)\n",
    "    X_te = vectorizer.transform(X_te)\n",
    "    \n",
    "    clf = RandomForestClassifier(n_estimators=n_estimators, max_depth=max_depth).fit(X_tr, y_tr)\n",
    "    \n",
    "    y_pred = clf.predict(X_te)\n",
    "\n",
    "    score = clf.score(X_te, y_te)\n",
    "    print(score)\n",
    "    \n",
    "    return {'score': score}"
   ]
  },
  {
   "cell_type": "markdown",
   "metadata": {},
   "source": [
    "Now, notice that unlike in `tutorial_1.ipynb`, running the cell above did not execute the experiment. That's because so far we've only told Flor to track this code, but we have yet to specify where this code fits in the overall Flor Plan (computation graph). We specify the Flor Plan below:"
   ]
  },
  {
   "cell_type": "code",
   "execution_count": 26,
   "metadata": {},
   "outputs": [],
   "source": [
    "with flor.Experiment('bob_preproc') as bob, flor.Experiment('risecamp_demo') as ex:\n",
    "    # This is how we tell Flor we will be using Bob's derived artifacts\n",
    "    data_x = bob.artifact('data_clean_X.json', 'intermediate_X', label=\"first_preproc\")\n",
    "    data_y = bob.artifact('data_clean_y.json', 'intermediate_y', label=\"first_preproc\")\n",
    "    \n",
    "    # This is how we specify the \"literals\" (parameters) of the Flor Plan for our experiments     \n",
    "    n_estimators = ex.literal(7, 'n_estimators') # We pick the best number of estimators from the previous notebook\n",
    "    max_depth = ex.literal(100, 'max_depth') # We pick the best max depth from the previous notebook\n",
    "                                                                \n",
    "    # This is where we put the code we declared in the cell above-\n",
    "    #               And this is how we pass in Bob's artifacts ---|-------|\n",
    "    #                                                          ---v-------v\n",
    "    do_split_train_and_eval = ex.action(split_train_and_eval, [data_x, data_y, n_estimators, max_depth])\n",
    "    score = ex.literal(name='score', parent=do_split_train_and_eval)\n"
   ]
  },
  {
   "cell_type": "markdown",
   "metadata": {},
   "source": [
    "At this point, we've declared the code, declared the artifacts, and specified the Flor Plan of our experiment. We are now ready to run it, but first, let's make sure we built the graph we intended:"
   ]
  },
  {
   "cell_type": "code",
   "execution_count": 27,
   "metadata": {
    "scrolled": false
   },
   "outputs": [
    {
     "data": {
      "image/svg+xml": [
       "<?xml version=\"1.0\" encoding=\"UTF-8\" standalone=\"no\"?>\n",
       "<!DOCTYPE svg PUBLIC \"-//W3C//DTD SVG 1.1//EN\"\n",
       " \"http://www.w3.org/Graphics/SVG/1.1/DTD/svg11.dtd\">\n",
       "<!-- Generated by graphviz version 2.40.1 (20161225.0304)\n",
       " -->\n",
       "<!-- Title: source Pages: 1 -->\n",
       "<svg width=\"528pt\" height=\"188pt\"\n",
       " viewBox=\"0.00 0.00 527.50 188.00\" xmlns=\"http://www.w3.org/2000/svg\" xmlns:xlink=\"http://www.w3.org/1999/xlink\">\n",
       "<g id=\"graph0\" class=\"graph\" transform=\"scale(1 1) rotate(0) translate(4 184)\">\n",
       "<title>source</title>\n",
       "<polygon fill=\"#ffffff\" stroke=\"transparent\" points=\"-4,4 -4,-184 523.5,-184 523.5,4 -4,4\"/>\n",
       "<!-- 2 -->\n",
       "<g id=\"node1\" class=\"node\">\n",
       "<title>2</title>\n",
       "<polygon fill=\"none\" stroke=\"#000000\" points=\"72,-180 0,-180 0,-144 72,-144 72,-180\"/>\n",
       "<text text-anchor=\"middle\" x=\"36\" y=\"-158.3\" font-family=\"Times,serif\" font-size=\"14.00\" fill=\"#000000\">tutorial_2</text>\n",
       "</g>\n",
       "<!-- 1 -->\n",
       "<g id=\"node6\" class=\"node\">\n",
       "<title>1</title>\n",
       "<ellipse fill=\"none\" stroke=\"#000000\" cx=\"263\" cy=\"-90\" rx=\"86.3847\" ry=\"18\"/>\n",
       "<text text-anchor=\"middle\" x=\"263\" y=\"-86.3\" font-family=\"Times,serif\" font-size=\"14.00\" fill=\"#000000\">split_train_and_eval</text>\n",
       "</g>\n",
       "<!-- 2&#45;&gt;1 -->\n",
       "<g id=\"edge1\" class=\"edge\">\n",
       "<title>2&#45;&gt;1</title>\n",
       "<path fill=\"none\" stroke=\"#000000\" d=\"M72.2412,-147.1709C75.1923,-146.065 78.1387,-144.9944 81,-144 120.2705,-130.3525 165.0286,-117.0437 200.332,-107.0532\"/>\n",
       "<polygon fill=\"#000000\" stroke=\"#000000\" points=\"201.3479,-110.4033 210.0263,-104.3258 199.4521,-103.6649 201.3479,-110.4033\"/>\n",
       "</g>\n",
       "<!-- 3 -->\n",
       "<g id=\"node2\" class=\"node\">\n",
       "<title>3</title>\n",
       "<polygon fill=\"none\" stroke=\"#000000\" points=\"194,-180 90,-180 90,-144 194,-144 194,-180\"/>\n",
       "<text text-anchor=\"middle\" x=\"142\" y=\"-158.3\" font-family=\"Times,serif\" font-size=\"14.00\" fill=\"#000000\">intermediate_X</text>\n",
       "</g>\n",
       "<!-- 3&#45;&gt;1 -->\n",
       "<g id=\"edge2\" class=\"edge\">\n",
       "<title>3&#45;&gt;1</title>\n",
       "<path fill=\"none\" stroke=\"#000000\" d=\"M172.5334,-143.8314C188.6303,-134.253 208.5136,-122.4217 225.5365,-112.2923\"/>\n",
       "<polygon fill=\"#000000\" stroke=\"#000000\" points=\"227.3385,-115.2929 234.1424,-107.1715 223.7589,-109.2773 227.3385,-115.2929\"/>\n",
       "</g>\n",
       "<!-- 4 -->\n",
       "<g id=\"node3\" class=\"node\">\n",
       "<title>4</title>\n",
       "<polygon fill=\"none\" stroke=\"#000000\" points=\"313.5,-180 212.5,-180 212.5,-144 313.5,-144 313.5,-180\"/>\n",
       "<text text-anchor=\"middle\" x=\"263\" y=\"-158.3\" font-family=\"Times,serif\" font-size=\"14.00\" fill=\"#000000\">intermediate_y</text>\n",
       "</g>\n",
       "<!-- 4&#45;&gt;1 -->\n",
       "<g id=\"edge3\" class=\"edge\">\n",
       "<title>4&#45;&gt;1</title>\n",
       "<path fill=\"none\" stroke=\"#000000\" d=\"M263,-143.8314C263,-136.131 263,-126.9743 263,-118.4166\"/>\n",
       "<polygon fill=\"#000000\" stroke=\"#000000\" points=\"266.5001,-118.4132 263,-108.4133 259.5001,-118.4133 266.5001,-118.4132\"/>\n",
       "</g>\n",
       "<!-- 5 -->\n",
       "<g id=\"node4\" class=\"node\">\n",
       "<title>5</title>\n",
       "<polygon fill=\"none\" stroke=\"transparent\" points=\"420.5,-180 331.5,-180 331.5,-144 420.5,-144 420.5,-180\"/>\n",
       "<polyline fill=\"none\" stroke=\"#000000\" points=\"331.5,-144 420.5,-144 \"/>\n",
       "<text text-anchor=\"middle\" x=\"376\" y=\"-158.3\" font-family=\"Times,serif\" font-size=\"14.00\" fill=\"#000000\">n_estimators</text>\n",
       "</g>\n",
       "<!-- 5&#45;&gt;1 -->\n",
       "<g id=\"edge4\" class=\"edge\">\n",
       "<title>5&#45;&gt;1</title>\n",
       "<path fill=\"none\" stroke=\"#000000\" d=\"M347.4853,-143.8314C332.5906,-134.3409 314.2244,-122.6386 298.4248,-112.5716\"/>\n",
       "<polygon fill=\"#000000\" stroke=\"#000000\" points=\"300.264,-109.5933 289.9497,-107.1715 296.5024,-115.4968 300.264,-109.5933\"/>\n",
       "</g>\n",
       "<!-- 6 -->\n",
       "<g id=\"node5\" class=\"node\">\n",
       "<title>6</title>\n",
       "<polygon fill=\"none\" stroke=\"transparent\" points=\"519.5,-180 438.5,-180 438.5,-144 519.5,-144 519.5,-180\"/>\n",
       "<polyline fill=\"none\" stroke=\"#000000\" points=\"438.5,-144 519.5,-144 \"/>\n",
       "<text text-anchor=\"middle\" x=\"479\" y=\"-158.3\" font-family=\"Times,serif\" font-size=\"14.00\" fill=\"#000000\">max_depth</text>\n",
       "</g>\n",
       "<!-- 6&#45;&gt;1 -->\n",
       "<g id=\"edge5\" class=\"edge\">\n",
       "<title>6&#45;&gt;1</title>\n",
       "<path fill=\"none\" stroke=\"#000000\" d=\"M438.402,-146.947C435.563,-145.9373 432.7413,-144.9463 430,-144 393.8474,-131.5201 353.0007,-118.2968 320.7535,-108.0592\"/>\n",
       "<polygon fill=\"#000000\" stroke=\"#000000\" points=\"321.6267,-104.6644 311.0366,-104.982 319.5132,-111.3378 321.6267,-104.6644\"/>\n",
       "</g>\n",
       "<!-- 0 -->\n",
       "<g id=\"node7\" class=\"node\">\n",
       "<title>0</title>\n",
       "<polygon fill=\"none\" stroke=\"transparent\" points=\"290,-36 236,-36 236,0 290,0 290,-36\"/>\n",
       "<polyline fill=\"none\" stroke=\"#000000\" points=\"236,0 290,0 \"/>\n",
       "<text text-anchor=\"middle\" x=\"263\" y=\"-14.3\" font-family=\"Times,serif\" font-size=\"14.00\" fill=\"#000000\">score</text>\n",
       "</g>\n",
       "<!-- 1&#45;&gt;0 -->\n",
       "<g id=\"edge6\" class=\"edge\">\n",
       "<title>1&#45;&gt;0</title>\n",
       "<path fill=\"none\" stroke=\"#000000\" d=\"M263,-71.8314C263,-64.131 263,-54.9743 263,-46.4166\"/>\n",
       "<polygon fill=\"#000000\" stroke=\"#000000\" points=\"266.5001,-46.4132 263,-36.4133 259.5001,-46.4133 266.5001,-46.4132\"/>\n",
       "</g>\n",
       "</g>\n",
       "</svg>\n"
      ],
      "text/plain": [
       "<graphviz.files.Source at 0x7f46feab8748>"
      ]
     },
     "execution_count": 27,
     "metadata": {},
     "output_type": "execute_result"
    }
   ],
   "source": [
    "score.plot()"
   ]
  },
  {
   "cell_type": "markdown",
   "metadata": {},
   "source": [
    "The graph looks as it should. Notice how we are now consuming Bob's `Intermediate_X` and `Intermediate_y` artifacts in our experiment. Although the extended Flor syntax involves the additional work of specifying the Flor Plan, this freedom allows us to track more context, and share artifacts across experiments.\n",
    "\n",
    "Next, we run the experiment we've specified."
   ]
  },
  {
   "cell_type": "code",
   "execution_count": 28,
   "metadata": {},
   "outputs": [
    {
     "name": "stdout",
     "output_type": "stream",
     "text": [
      "An experiment with the name 'fifth_pull' exists\n"
     ]
    }
   ],
   "source": [
    "score.pull('fifth_pull')"
   ]
  },
  {
   "cell_type": "code",
   "execution_count": 29,
   "metadata": {},
   "outputs": [
    {
     "data": {
      "text/html": [
       "<div>\n",
       "<style scoped>\n",
       "    .dataframe tbody tr th:only-of-type {\n",
       "        vertical-align: middle;\n",
       "    }\n",
       "\n",
       "    .dataframe tbody tr th {\n",
       "        vertical-align: top;\n",
       "    }\n",
       "\n",
       "    .dataframe thead th {\n",
       "        text-align: right;\n",
       "    }\n",
       "</style>\n",
       "<table border=\"1\" class=\"dataframe\">\n",
       "  <thead>\n",
       "    <tr style=\"text-align: right;\">\n",
       "      <th></th>\n",
       "      <th>label</th>\n",
       "      <th>score</th>\n",
       "      <th>max_depth</th>\n",
       "      <th>n_estimators</th>\n",
       "      <th>intermediate_X</th>\n",
       "      <th>intermediate_y</th>\n",
       "      <th>tutorial_2</th>\n",
       "      <th>tutorial_1</th>\n",
       "    </tr>\n",
       "  </thead>\n",
       "  <tbody>\n",
       "    <tr>\n",
       "      <th>0</th>\n",
       "      <td>sixth_pull</td>\n",
       "      <td>0.7460</td>\n",
       "      <td>100.0</td>\n",
       "      <td>7.0</td>\n",
       "      <td>data_clean_X_112394722104.json</td>\n",
       "      <td>data_clean_y_112394719416.json</td>\n",
       "      <td>tutorial_2_140276092881104.ipynb</td>\n",
       "      <td>NaN</td>\n",
       "    </tr>\n",
       "    <tr>\n",
       "      <th>1</th>\n",
       "      <td>fifth_pull</td>\n",
       "      <td>0.6520</td>\n",
       "      <td>100.0</td>\n",
       "      <td>7.0</td>\n",
       "      <td>data_clean_X_111988783760.json</td>\n",
       "      <td>data_clean_y_111988784208.json</td>\n",
       "      <td>tutorial_2_140276092876728.ipynb</td>\n",
       "      <td>NaN</td>\n",
       "    </tr>\n",
       "    <tr>\n",
       "      <th>2</th>\n",
       "      <td>2018-10-12_00-42-25</td>\n",
       "      <td>0.7331</td>\n",
       "      <td>100.0</td>\n",
       "      <td>7.0</td>\n",
       "      <td>NaN</td>\n",
       "      <td>NaN</td>\n",
       "      <td>NaN</td>\n",
       "      <td>tutorial_1_139742951853808.ipynb</td>\n",
       "    </tr>\n",
       "    <tr>\n",
       "      <th>3</th>\n",
       "      <td>2018-10-12_00-42-25</td>\n",
       "      <td>0.7002</td>\n",
       "      <td>10.0</td>\n",
       "      <td>7.0</td>\n",
       "      <td>NaN</td>\n",
       "      <td>NaN</td>\n",
       "      <td>NaN</td>\n",
       "      <td>tutorial_1_139742951853808.ipynb</td>\n",
       "    </tr>\n",
       "    <tr>\n",
       "      <th>4</th>\n",
       "      <td>2018-10-12_00-38-58</td>\n",
       "      <td>0.7089</td>\n",
       "      <td>NaN</td>\n",
       "      <td>NaN</td>\n",
       "      <td>NaN</td>\n",
       "      <td>NaN</td>\n",
       "      <td>NaN</td>\n",
       "      <td>tutorial_1_139742745119600.ipynb</td>\n",
       "    </tr>\n",
       "    <tr>\n",
       "      <th>5</th>\n",
       "      <td>2018-10-12_00-37-29</td>\n",
       "      <td>0.7044</td>\n",
       "      <td>NaN</td>\n",
       "      <td>NaN</td>\n",
       "      <td>NaN</td>\n",
       "      <td>NaN</td>\n",
       "      <td>NaN</td>\n",
       "      <td>tutorial_1_139741553533616.ipynb</td>\n",
       "    </tr>\n",
       "  </tbody>\n",
       "</table>\n",
       "</div>"
      ],
      "text/plain": [
       "                 label   score  max_depth  n_estimators  \\\n",
       "0           sixth_pull  0.7460      100.0           7.0   \n",
       "1           fifth_pull  0.6520      100.0           7.0   \n",
       "2  2018-10-12_00-42-25  0.7331      100.0           7.0   \n",
       "3  2018-10-12_00-42-25  0.7002       10.0           7.0   \n",
       "4  2018-10-12_00-38-58  0.7089        NaN           NaN   \n",
       "5  2018-10-12_00-37-29  0.7044        NaN           NaN   \n",
       "\n",
       "                   intermediate_X                  intermediate_y  \\\n",
       "0  data_clean_X_112394722104.json  data_clean_y_112394719416.json   \n",
       "1  data_clean_X_111988783760.json  data_clean_y_111988784208.json   \n",
       "2                             NaN                             NaN   \n",
       "3                             NaN                             NaN   \n",
       "4                             NaN                             NaN   \n",
       "5                             NaN                             NaN   \n",
       "\n",
       "                         tutorial_2                        tutorial_1  \n",
       "0  tutorial_2_140276092881104.ipynb                               NaN  \n",
       "1  tutorial_2_140276092876728.ipynb                               NaN  \n",
       "2                               NaN  tutorial_1_139742951853808.ipynb  \n",
       "3                               NaN  tutorial_1_139742951853808.ipynb  \n",
       "4                               NaN  tutorial_1_139742745119600.ipynb  \n",
       "5                               NaN  tutorial_1_139741553533616.ipynb  "
      ]
     },
     "execution_count": 29,
     "metadata": {},
     "output_type": "execute_result"
    }
   ],
   "source": [
    "flor.Experiment('risecamp_demo').summarize()"
   ]
  },
  {
   "cell_type": "markdown",
   "metadata": {},
   "source": [
    "When we summarize our `risecamp_demo` experiment, we can see all of the executions from `tutorial_1.ipynb` plus the new execution we just finished (`fifth_pull`). Interestingly, we see that despite using the best configuration from `tutorial_1.ipynb`: `n_estimators=7.0` and `max_depth=100`, our score dropped to around 65%.\n",
    "\n",
    "The only thing we did differently was to use Bob's preprocessed data rather than preprocess our own data. We used the first version of Bob's preprocessed data, but there were two versions. Let's see whether the second and latest version performs better."
   ]
  },
  {
   "cell_type": "markdown",
   "metadata": {},
   "source": [
    "### Retrying the same experiment, but changing to Bob's latest version of the data\n",
    "As before, let's start by looking at the summary of Bob's past experiments."
   ]
  },
  {
   "cell_type": "code",
   "execution_count": 30,
   "metadata": {},
   "outputs": [
    {
     "data": {
      "text/html": [
       "<div>\n",
       "<style scoped>\n",
       "    .dataframe tbody tr th:only-of-type {\n",
       "        vertical-align: middle;\n",
       "    }\n",
       "\n",
       "    .dataframe tbody tr th {\n",
       "        vertical-align: top;\n",
       "    }\n",
       "\n",
       "    .dataframe thead th {\n",
       "        text-align: right;\n",
       "    }\n",
       "</style>\n",
       "<table border=\"1\" class=\"dataframe\">\n",
       "  <thead>\n",
       "    <tr style=\"text-align: right;\">\n",
       "      <th></th>\n",
       "      <th>label</th>\n",
       "      <th>intermediate_X</th>\n",
       "      <th>preprocess</th>\n",
       "      <th>intermediate_y</th>\n",
       "      <th>data_loc</th>\n",
       "    </tr>\n",
       "  </thead>\n",
       "  <tbody>\n",
       "    <tr>\n",
       "      <th>0</th>\n",
       "      <td>second_preproc</td>\n",
       "      <td>data_clean_X_112394722104.json</td>\n",
       "      <td>preprocess_4489614728.py</td>\n",
       "      <td>data_clean_y_112394719416.json</td>\n",
       "      <td>data_112399744192.json</td>\n",
       "    </tr>\n",
       "    <tr>\n",
       "      <th>1</th>\n",
       "      <td>first_preproc</td>\n",
       "      <td>data_clean_X_111988783760.json</td>\n",
       "      <td>preprocess_111988784040.py</td>\n",
       "      <td>data_clean_y_111988784208.json</td>\n",
       "      <td>data_111988784768.json</td>\n",
       "    </tr>\n",
       "  </tbody>\n",
       "</table>\n",
       "</div>"
      ],
      "text/plain": [
       "            label                  intermediate_X                  preprocess  \\\n",
       "0  second_preproc  data_clean_X_112394722104.json    preprocess_4489614728.py   \n",
       "1   first_preproc  data_clean_X_111988783760.json  preprocess_111988784040.py   \n",
       "\n",
       "                   intermediate_y                data_loc  \n",
       "0  data_clean_y_112394719416.json  data_112399744192.json  \n",
       "1  data_clean_y_111988784208.json  data_111988784768.json  "
      ]
     },
     "execution_count": 30,
     "metadata": {},
     "output_type": "execute_result"
    }
   ],
   "source": [
    "flor.Experiment('bob_preproc').summarize()"
   ]
  },
  {
   "cell_type": "markdown",
   "metadata": {},
   "source": [
    "We already tried label `first_preproc` , so let's try `second_preproc` this time. We already specified the Flor Plan above, and we are satisfied with the plan, we just want to update the version of the data. We do so as follows:"
   ]
  },
  {
   "cell_type": "code",
   "execution_count": 31,
   "metadata": {},
   "outputs": [],
   "source": [
    "data_x.version = \"second_preproc\"\n",
    "data_y.version = \"second_preproc\""
   ]
  },
  {
   "cell_type": "markdown",
   "metadata": {},
   "source": [
    "We plot to make sure the plan didn't change structurally:"
   ]
  },
  {
   "cell_type": "code",
   "execution_count": 32,
   "metadata": {},
   "outputs": [
    {
     "data": {
      "image/svg+xml": [
       "<?xml version=\"1.0\" encoding=\"UTF-8\" standalone=\"no\"?>\n",
       "<!DOCTYPE svg PUBLIC \"-//W3C//DTD SVG 1.1//EN\"\n",
       " \"http://www.w3.org/Graphics/SVG/1.1/DTD/svg11.dtd\">\n",
       "<!-- Generated by graphviz version 2.40.1 (20161225.0304)\n",
       " -->\n",
       "<!-- Title: source Pages: 1 -->\n",
       "<svg width=\"528pt\" height=\"188pt\"\n",
       " viewBox=\"0.00 0.00 527.50 188.00\" xmlns=\"http://www.w3.org/2000/svg\" xmlns:xlink=\"http://www.w3.org/1999/xlink\">\n",
       "<g id=\"graph0\" class=\"graph\" transform=\"scale(1 1) rotate(0) translate(4 184)\">\n",
       "<title>source</title>\n",
       "<polygon fill=\"#ffffff\" stroke=\"transparent\" points=\"-4,4 -4,-184 523.5,-184 523.5,4 -4,4\"/>\n",
       "<!-- 2 -->\n",
       "<g id=\"node1\" class=\"node\">\n",
       "<title>2</title>\n",
       "<polygon fill=\"none\" stroke=\"#000000\" points=\"72,-180 0,-180 0,-144 72,-144 72,-180\"/>\n",
       "<text text-anchor=\"middle\" x=\"36\" y=\"-158.3\" font-family=\"Times,serif\" font-size=\"14.00\" fill=\"#000000\">tutorial_2</text>\n",
       "</g>\n",
       "<!-- 1 -->\n",
       "<g id=\"node6\" class=\"node\">\n",
       "<title>1</title>\n",
       "<ellipse fill=\"none\" stroke=\"#000000\" cx=\"263\" cy=\"-90\" rx=\"86.3847\" ry=\"18\"/>\n",
       "<text text-anchor=\"middle\" x=\"263\" y=\"-86.3\" font-family=\"Times,serif\" font-size=\"14.00\" fill=\"#000000\">split_train_and_eval</text>\n",
       "</g>\n",
       "<!-- 2&#45;&gt;1 -->\n",
       "<g id=\"edge1\" class=\"edge\">\n",
       "<title>2&#45;&gt;1</title>\n",
       "<path fill=\"none\" stroke=\"#000000\" d=\"M72.2412,-147.1709C75.1923,-146.065 78.1387,-144.9944 81,-144 120.2705,-130.3525 165.0286,-117.0437 200.332,-107.0532\"/>\n",
       "<polygon fill=\"#000000\" stroke=\"#000000\" points=\"201.3479,-110.4033 210.0263,-104.3258 199.4521,-103.6649 201.3479,-110.4033\"/>\n",
       "</g>\n",
       "<!-- 3 -->\n",
       "<g id=\"node2\" class=\"node\">\n",
       "<title>3</title>\n",
       "<polygon fill=\"none\" stroke=\"#000000\" points=\"194,-180 90,-180 90,-144 194,-144 194,-180\"/>\n",
       "<text text-anchor=\"middle\" x=\"142\" y=\"-158.3\" font-family=\"Times,serif\" font-size=\"14.00\" fill=\"#000000\">intermediate_X</text>\n",
       "</g>\n",
       "<!-- 3&#45;&gt;1 -->\n",
       "<g id=\"edge2\" class=\"edge\">\n",
       "<title>3&#45;&gt;1</title>\n",
       "<path fill=\"none\" stroke=\"#000000\" d=\"M172.5334,-143.8314C188.6303,-134.253 208.5136,-122.4217 225.5365,-112.2923\"/>\n",
       "<polygon fill=\"#000000\" stroke=\"#000000\" points=\"227.3385,-115.2929 234.1424,-107.1715 223.7589,-109.2773 227.3385,-115.2929\"/>\n",
       "</g>\n",
       "<!-- 4 -->\n",
       "<g id=\"node3\" class=\"node\">\n",
       "<title>4</title>\n",
       "<polygon fill=\"none\" stroke=\"#000000\" points=\"313.5,-180 212.5,-180 212.5,-144 313.5,-144 313.5,-180\"/>\n",
       "<text text-anchor=\"middle\" x=\"263\" y=\"-158.3\" font-family=\"Times,serif\" font-size=\"14.00\" fill=\"#000000\">intermediate_y</text>\n",
       "</g>\n",
       "<!-- 4&#45;&gt;1 -->\n",
       "<g id=\"edge3\" class=\"edge\">\n",
       "<title>4&#45;&gt;1</title>\n",
       "<path fill=\"none\" stroke=\"#000000\" d=\"M263,-143.8314C263,-136.131 263,-126.9743 263,-118.4166\"/>\n",
       "<polygon fill=\"#000000\" stroke=\"#000000\" points=\"266.5001,-118.4132 263,-108.4133 259.5001,-118.4133 266.5001,-118.4132\"/>\n",
       "</g>\n",
       "<!-- 5 -->\n",
       "<g id=\"node4\" class=\"node\">\n",
       "<title>5</title>\n",
       "<polygon fill=\"none\" stroke=\"transparent\" points=\"420.5,-180 331.5,-180 331.5,-144 420.5,-144 420.5,-180\"/>\n",
       "<polyline fill=\"none\" stroke=\"#000000\" points=\"331.5,-144 420.5,-144 \"/>\n",
       "<text text-anchor=\"middle\" x=\"376\" y=\"-158.3\" font-family=\"Times,serif\" font-size=\"14.00\" fill=\"#000000\">n_estimators</text>\n",
       "</g>\n",
       "<!-- 5&#45;&gt;1 -->\n",
       "<g id=\"edge4\" class=\"edge\">\n",
       "<title>5&#45;&gt;1</title>\n",
       "<path fill=\"none\" stroke=\"#000000\" d=\"M347.4853,-143.8314C332.5906,-134.3409 314.2244,-122.6386 298.4248,-112.5716\"/>\n",
       "<polygon fill=\"#000000\" stroke=\"#000000\" points=\"300.264,-109.5933 289.9497,-107.1715 296.5024,-115.4968 300.264,-109.5933\"/>\n",
       "</g>\n",
       "<!-- 6 -->\n",
       "<g id=\"node5\" class=\"node\">\n",
       "<title>6</title>\n",
       "<polygon fill=\"none\" stroke=\"transparent\" points=\"519.5,-180 438.5,-180 438.5,-144 519.5,-144 519.5,-180\"/>\n",
       "<polyline fill=\"none\" stroke=\"#000000\" points=\"438.5,-144 519.5,-144 \"/>\n",
       "<text text-anchor=\"middle\" x=\"479\" y=\"-158.3\" font-family=\"Times,serif\" font-size=\"14.00\" fill=\"#000000\">max_depth</text>\n",
       "</g>\n",
       "<!-- 6&#45;&gt;1 -->\n",
       "<g id=\"edge5\" class=\"edge\">\n",
       "<title>6&#45;&gt;1</title>\n",
       "<path fill=\"none\" stroke=\"#000000\" d=\"M438.402,-146.947C435.563,-145.9373 432.7413,-144.9463 430,-144 393.8474,-131.5201 353.0007,-118.2968 320.7535,-108.0592\"/>\n",
       "<polygon fill=\"#000000\" stroke=\"#000000\" points=\"321.6267,-104.6644 311.0366,-104.982 319.5132,-111.3378 321.6267,-104.6644\"/>\n",
       "</g>\n",
       "<!-- 0 -->\n",
       "<g id=\"node7\" class=\"node\">\n",
       "<title>0</title>\n",
       "<polygon fill=\"none\" stroke=\"transparent\" points=\"290,-36 236,-36 236,0 290,0 290,-36\"/>\n",
       "<polyline fill=\"none\" stroke=\"#000000\" points=\"236,0 290,0 \"/>\n",
       "<text text-anchor=\"middle\" x=\"263\" y=\"-14.3\" font-family=\"Times,serif\" font-size=\"14.00\" fill=\"#000000\">score</text>\n",
       "</g>\n",
       "<!-- 1&#45;&gt;0 -->\n",
       "<g id=\"edge6\" class=\"edge\">\n",
       "<title>1&#45;&gt;0</title>\n",
       "<path fill=\"none\" stroke=\"#000000\" d=\"M263,-71.8314C263,-64.131 263,-54.9743 263,-46.4166\"/>\n",
       "<polygon fill=\"#000000\" stroke=\"#000000\" points=\"266.5001,-46.4132 263,-36.4133 259.5001,-46.4133 266.5001,-46.4132\"/>\n",
       "</g>\n",
       "</g>\n",
       "</svg>\n"
      ],
      "text/plain": [
       "<graphviz.files.Source at 0x7f46feab8390>"
      ]
     },
     "execution_count": 32,
     "metadata": {},
     "output_type": "execute_result"
    }
   ],
   "source": [
    "score.plot()"
   ]
  },
  {
   "cell_type": "markdown",
   "metadata": {},
   "source": [
    "We see that the Flor Plan didn't change, so we execute a new version of our experiment, using Bob's latest version of the preprocessed data."
   ]
  },
  {
   "cell_type": "code",
   "execution_count": 33,
   "metadata": {},
   "outputs": [
    {
     "name": "stdout",
     "output_type": "stream",
     "text": [
      "An experiment with the name 'sixth_pull' exists\n"
     ]
    }
   ],
   "source": [
    "score.pull('sixth_pull')"
   ]
  },
  {
   "cell_type": "markdown",
   "metadata": {},
   "source": [
    "We check the results one more time:"
   ]
  },
  {
   "cell_type": "code",
   "execution_count": 34,
   "metadata": {},
   "outputs": [
    {
     "data": {
      "text/html": [
       "<div>\n",
       "<style scoped>\n",
       "    .dataframe tbody tr th:only-of-type {\n",
       "        vertical-align: middle;\n",
       "    }\n",
       "\n",
       "    .dataframe tbody tr th {\n",
       "        vertical-align: top;\n",
       "    }\n",
       "\n",
       "    .dataframe thead th {\n",
       "        text-align: right;\n",
       "    }\n",
       "</style>\n",
       "<table border=\"1\" class=\"dataframe\">\n",
       "  <thead>\n",
       "    <tr style=\"text-align: right;\">\n",
       "      <th></th>\n",
       "      <th>label</th>\n",
       "      <th>score</th>\n",
       "      <th>n_estimators</th>\n",
       "      <th>max_depth</th>\n",
       "      <th>intermediate_y</th>\n",
       "      <th>intermediate_X</th>\n",
       "      <th>tutorial_2</th>\n",
       "      <th>tutorial_1</th>\n",
       "    </tr>\n",
       "  </thead>\n",
       "  <tbody>\n",
       "    <tr>\n",
       "      <th>0</th>\n",
       "      <td>sixth_pull</td>\n",
       "      <td>0.7460</td>\n",
       "      <td>7.0</td>\n",
       "      <td>100.0</td>\n",
       "      <td>data_clean_y_112394719416.json</td>\n",
       "      <td>data_clean_X_112394722104.json</td>\n",
       "      <td>tutorial_2_140276092881104.ipynb</td>\n",
       "      <td>NaN</td>\n",
       "    </tr>\n",
       "    <tr>\n",
       "      <th>1</th>\n",
       "      <td>fifth_pull</td>\n",
       "      <td>0.6520</td>\n",
       "      <td>7.0</td>\n",
       "      <td>100.0</td>\n",
       "      <td>data_clean_y_111988784208.json</td>\n",
       "      <td>data_clean_X_111988783760.json</td>\n",
       "      <td>tutorial_2_140276092876728.ipynb</td>\n",
       "      <td>NaN</td>\n",
       "    </tr>\n",
       "    <tr>\n",
       "      <th>2</th>\n",
       "      <td>2018-10-12_00-42-25</td>\n",
       "      <td>0.7002</td>\n",
       "      <td>7.0</td>\n",
       "      <td>10.0</td>\n",
       "      <td>NaN</td>\n",
       "      <td>NaN</td>\n",
       "      <td>NaN</td>\n",
       "      <td>tutorial_1_139742951853808.ipynb</td>\n",
       "    </tr>\n",
       "    <tr>\n",
       "      <th>3</th>\n",
       "      <td>2018-10-12_00-42-25</td>\n",
       "      <td>0.7331</td>\n",
       "      <td>7.0</td>\n",
       "      <td>100.0</td>\n",
       "      <td>NaN</td>\n",
       "      <td>NaN</td>\n",
       "      <td>NaN</td>\n",
       "      <td>tutorial_1_139742951853808.ipynb</td>\n",
       "    </tr>\n",
       "    <tr>\n",
       "      <th>4</th>\n",
       "      <td>2018-10-12_00-38-58</td>\n",
       "      <td>0.7089</td>\n",
       "      <td>NaN</td>\n",
       "      <td>NaN</td>\n",
       "      <td>NaN</td>\n",
       "      <td>NaN</td>\n",
       "      <td>NaN</td>\n",
       "      <td>tutorial_1_139742745119600.ipynb</td>\n",
       "    </tr>\n",
       "    <tr>\n",
       "      <th>5</th>\n",
       "      <td>2018-10-12_00-37-29</td>\n",
       "      <td>0.7044</td>\n",
       "      <td>NaN</td>\n",
       "      <td>NaN</td>\n",
       "      <td>NaN</td>\n",
       "      <td>NaN</td>\n",
       "      <td>NaN</td>\n",
       "      <td>tutorial_1_139741553533616.ipynb</td>\n",
       "    </tr>\n",
       "  </tbody>\n",
       "</table>\n",
       "</div>"
      ],
      "text/plain": [
       "                 label   score  n_estimators  max_depth  \\\n",
       "0           sixth_pull  0.7460           7.0      100.0   \n",
       "1           fifth_pull  0.6520           7.0      100.0   \n",
       "2  2018-10-12_00-42-25  0.7002           7.0       10.0   \n",
       "3  2018-10-12_00-42-25  0.7331           7.0      100.0   \n",
       "4  2018-10-12_00-38-58  0.7089           NaN        NaN   \n",
       "5  2018-10-12_00-37-29  0.7044           NaN        NaN   \n",
       "\n",
       "                   intermediate_y                  intermediate_X  \\\n",
       "0  data_clean_y_112394719416.json  data_clean_X_112394722104.json   \n",
       "1  data_clean_y_111988784208.json  data_clean_X_111988783760.json   \n",
       "2                             NaN                             NaN   \n",
       "3                             NaN                             NaN   \n",
       "4                             NaN                             NaN   \n",
       "5                             NaN                             NaN   \n",
       "\n",
       "                         tutorial_2                        tutorial_1  \n",
       "0  tutorial_2_140276092881104.ipynb                               NaN  \n",
       "1  tutorial_2_140276092876728.ipynb                               NaN  \n",
       "2                               NaN  tutorial_1_139742951853808.ipynb  \n",
       "3                               NaN  tutorial_1_139742951853808.ipynb  \n",
       "4                               NaN  tutorial_1_139742745119600.ipynb  \n",
       "5                               NaN  tutorial_1_139741553533616.ipynb  "
      ]
     },
     "execution_count": 34,
     "metadata": {},
     "output_type": "execute_result"
    }
   ],
   "source": [
    "flor.Experiment('risecamp_demo').summarize()"
   ]
  },
  {
   "cell_type": "markdown",
   "metadata": {},
   "source": [
    "Now we see that our score is the highest yet, so it was a good idea to switch to Bob's latest version of the data. "
   ]
  },
  {
   "cell_type": "markdown",
   "metadata": {},
   "source": [
    "## Summary of Part 2\n",
    "In this notebook we learned how to use Flor's extended API via `flor.func` decorators. This required us to manually compose a Flor plan, but one with richer detail. In particular, it allowed us to knit together a Flor plan from another developer into our own larger Flor Plan. This illustrates how writing a clear pipeline in Flor can help others interpret your work, and re-use artifacts you derived, whether they are code or data."
   ]
  },
  {
   "cell_type": "markdown",
   "metadata": {},
   "source": [
    "## Thank you! You may now move on to `tutorial_3.ipynb`"
   ]
  },
  {
   "cell_type": "code",
   "execution_count": null,
   "metadata": {},
   "outputs": [],
   "source": []
  }
 ],
 "metadata": {
  "anaconda-cloud": {},
  "kernelspec": {
   "display_name": "Python 3",
   "language": "python",
   "name": "python3"
  },
  "language_info": {
   "codemirror_mode": {
    "name": "ipython",
    "version": 3
   },
   "file_extension": ".py",
   "mimetype": "text/x-python",
   "name": "python",
   "nbconvert_exporter": "python",
   "pygments_lexer": "ipython3",
   "version": "3.6.3"
  }
 },
 "nbformat": 4,
 "nbformat_minor": 2
}
