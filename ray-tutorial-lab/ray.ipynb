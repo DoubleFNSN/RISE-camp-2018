{
 "cells": [
  {
   "cell_type": "markdown",
   "metadata": {},
   "source": [
    "# Ray notes presentation\n",
    "* What is Ray: Allows future function thats  async via python decorator.\n",
    "* Installing and docs: https://github.com/ray-project/ray\n",
    "* Parameter server: is a standalone distributed server\n",
    "\n"
   ]
  },
  {
   "cell_type": "code",
   "execution_count": 3,
   "metadata": {},
   "outputs": [
    {
     "name": "stderr",
     "output_type": "stream",
     "text": [
      "Process STDOUT and STDERR is being redirected to /tmp/raylogs/.\n",
      "Waiting for redis server at 127.0.0.1:51652 to respond...\n",
      "Waiting for redis server at 127.0.0.1:21961 to respond...\n",
      "Starting the Plasma object store with 13.00 GB memory.\n",
      "Starting local scheduler with the following resources: {'CPU': 8, 'GPU': 0}.\n",
      "\n",
      "======================================================================\n",
      "View the web UI at http://localhost:8889/notebooks/ray_ui21517.ipynb?token=b4e6f2c880a50a3dab7f2f69a0ba40fcbc546eaac29d92ac\n",
      "======================================================================\n",
      "\n"
     ]
    }
   ],
   "source": [
    "import ray\n",
    "import time\n",
    "\n",
    "# Execute f serially.\n",
    "\n",
    "\n",
    "def f():\n",
    "    time.sleep(1)\n",
    "    return 1\n",
    "\n",
    "\n",
    "\n",
    "result2 = [f() for i in range(4)]\n",
    "\n",
    "# Execute f in parallel.\n",
    "\n",
    "@ray.remote\n",
    "def f():\n",
    "    time.sleep(1)\n",
    "    return 1\n",
    "\n",
    "\n",
    "ray.init()\n",
    "results = ray.get([f.remote() for i in range(4)])"
   ]
  },
  {
   "cell_type": "code",
   "execution_count": 4,
   "metadata": {},
   "outputs": [
    {
     "data": {
      "text/plain": [
       "[1, 1, 1, 1]"
      ]
     },
     "execution_count": 4,
     "metadata": {},
     "output_type": "execute_result"
    }
   ],
   "source": [
    "results"
   ]
  },
  {
   "cell_type": "code",
   "execution_count": null,
   "metadata": {
    "collapsed": true
   },
   "outputs": [],
   "source": [
    "# Ray architecture\n",
    "Data Processing on Ray: Modin\n",
    "change one line to speed things up. \n",
    "\n",
    "import modin.pandas as mp\n"
   ]
  },
  {
   "cell_type": "markdown",
   "metadata": {},
   "source": [
    "RISECamp 2018 info\n",
    "https://risecamp.tech\n",
    "Password: jdp7s2rr\n",
    "\n",
    "\n",
    "Where can you use ray: slurm, kubernetes, clusters\n"
   ]
  },
  {
   "cell_type": "code",
   "execution_count": null,
   "metadata": {
    "collapsed": true
   },
   "outputs": [],
   "source": [
    "Sl"
   ]
  }
 ],
 "metadata": {
  "kernelspec": {
   "display_name": "Python 3",
   "language": "python",
   "name": "python3"
  },
  "language_info": {
   "codemirror_mode": {
    "name": "ipython",
    "version": 3
   },
   "file_extension": ".py",
   "mimetype": "text/x-python",
   "name": "python",
   "nbconvert_exporter": "python",
   "pygments_lexer": "ipython3",
   "version": "3.6.1"
  }
 },
 "nbformat": 4,
 "nbformat_minor": 2
}
