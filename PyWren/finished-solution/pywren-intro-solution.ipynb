{
 "cells": [
  {
   "cell_type": "markdown",
   "metadata": {},
   "source": [
    "# PyWren RISECamp, 2018"
   ]
  },
  {
   "cell_type": "markdown",
   "metadata": {},
   "source": [
    "Welcome to the hands-on tutorial for PyWren.\n",
    "\n",
    "This tutorial consists of a set of exercises that will have you working directly with PyWren:\n",
    "- basic exercises that introduce you to PyWren APIs (covered in this notebook)\n",
    "- data analysis on a wikipedia dataset (see [analyze-wikipedia.ipynb](../analyze-wikipedia.ipynb))\n",
    "- matrix multiplication with PyWren (see [matrix-computations-advanced.ipynb](../matrix-computations-advanced.ipynb))\n",
    "- hyperparameter optimization (see [hyperparameter-optimization.ipynb](../hyperparameter-optimization.ipynb))\n",
    "\n",
    "\n",
    "A couple of notes before you dive into the actual tutorials:\n",
    "- To run a code cell: select the cell, click Cell -> Run Cells or use Ctrl + Enter.\n",
    "- ***Execute*** indicates that the following code cell just works as given. Make sure to run them.\n",
    "- ***Exercise*** indicates an incomplete/broken code cell. Modify the code to make them work.\n",
    "- You can find solutions for the exercises [here](./)\n",
    "\n",
    "\n",
    "\n"
   ]
  },
  {
   "cell_type": "markdown",
   "metadata": {},
   "source": [
    "## Introduction to PyWren\n",
    "\n",
    "\n",
    "For this tutorial, we have already installed PyWren in the docker container where this jupyter notebook is running.\n",
    "PyWren provides a command line tool that provides basic functionalities for creating AWS IAM roles, configuring PyWren environment, deploying/updating Lambda functions, etc. We have also done that for you.  \n",
    "Before we go into the exercises, let's use the command line tool to test if PyWren works properly. \n",
    "\n",
    "***Execute*** the cell below ().  \n",
    "If PyWren is correctly installed, you should see *`function returned: Hello world`* after a few seconds."
   ]
  },
  {
   "cell_type": "code",
   "execution_count": 1,
   "metadata": {
    "collapsed": true
   },
   "outputs": [
    {
     "name": "stdout",
     "output_type": "stream",
     "text": [
      "Usage: pywren [OPTIONS] COMMAND [ARGS]...\n",
      "Try \"pywren --help\" for help.\n",
      "\n",
      "Error: No such command \"test-function\".\n"
     ]
    }
   ],
   "source": [
    "!pywren test-function"
   ]
  },
  {
   "cell_type": "markdown",
   "metadata": {},
   "source": [
    "The above command essentially invokes a PyWren task that executes on AWS Lambda. The task simply returns `Hello world` back to our PyWren host. We'll show you how to do exactly that in a minute.\n",
    "\n",
    "First and foremost, let's create a PyWren **Executor** that we will use throughput this notebook.\n",
    "\n",
    "***Execute*** the following code to create an PyWren Executor."
   ]
  },
  {
   "cell_type": "code",
   "execution_count": 2,
   "metadata": {
    "collapsed": true
   },
   "outputs": [],
   "source": [
    "import pywren\n",
    "pwex = pywren.default_executor()"
   ]
  },
  {
   "cell_type": "markdown",
   "metadata": {},
   "source": [
    "## 1. call_async() -- PyWren's single invocation API\n",
    "\n",
    "A PyWren Executor exposes two main APIs for remote execution, the first one being ***call_async()***, which runs a single PyWren task on AWS Lambda. `call_async()` takes two parameters: a user-provided function and a parameter for the function, i.e., `call_async(func, param)`.  \n",
    "Once called, it returns a ***future*** object that allows you to query the task status, get ***future.result()***, etc. \n",
    "\n",
    "***Exercise:*** Complete line **7** (fill in correct parameters) and line **9** for the code below to get correct result."
   ]
  },
  {
   "cell_type": "code",
   "execution_count": 3,
   "metadata": {
    "collapsed": true,
    "scrolled": false
   },
   "outputs": [
    {
     "name": "stdout",
     "output_type": "stream",
     "text": [
      "Success!\n"
     ]
    }
   ],
   "source": [
    "# this is the user-defined function that we will pass to call_async()\n",
    "def hello_world(param):\n",
    "    if param == 42:\n",
    "        return \"Hello world!\"\n",
    "\n",
    "# call_async(func, parameter)\n",
    "future = pwex.call_async(hello_world, 42)\n",
    "# call future.result() to fetch output of execution\n",
    "result = future.result()\n",
    "\n",
    "# check if result is correct\n",
    "assert result == 'Hello world!'\n",
    "print(\"Success!\")"
   ]
  },
  {
   "cell_type": "markdown",
   "metadata": {},
   "source": [
    "## 2. map() -- parallel execution in the cloud\n",
    "The above example executes a single function once in the cloud. This is pretty neat, but pywren really shines when we want to run functions multiple times in parallel.\n",
    "To do this, we can use PyWren executor's second API: ***map()***. `map()` allows users to call a function over multiple parameters, just like the `map` Python API.  \n",
    "In Python, the `map()` API applies the same function to each item in an iterable. The returned object can then be passed to `list()` or `set()` to obtain the results.\n",
    "\n",
    "***Execute*** the following code to see how Python's native `map()` works."
   ]
  },
  {
   "cell_type": "code",
   "execution_count": 4,
   "metadata": {
    "collapsed": true
   },
   "outputs": [
    {
     "name": "stdout",
     "output_type": "stream",
     "text": [
      "[0, 1, 4, 9, 16, 25, 36, 49, 64, 81]\n"
     ]
    }
   ],
   "source": [
    "param_list = [0, 1, 2, 3, 4, 5, 6, 7, 8, 9]\n",
    "def square(param):\n",
    "    return param * param\n",
    "\n",
    "map_object = map(square, param_list)\n",
    "results_with_python_map = list(map_object)\n",
    "print(results_with_python_map)"
   ]
  },
  {
   "cell_type": "markdown",
   "metadata": {},
   "source": [
    "PyWren Executor's `map()` API is not much different, except now the passed function runs on a cloud service.  \n",
    "***Exercise:*** Complete the call to `pywx.map()` by filling appropriate parameters."
   ]
  },
  {
   "cell_type": "code",
   "execution_count": 5,
   "metadata": {
    "collapsed": true
   },
   "outputs": [
    {
     "name": "stdout",
     "output_type": "stream",
     "text": [
      "success\n"
     ]
    }
   ],
   "source": [
    "futures = pwex.map(square, param_list)\n",
    "results_with_pywren_map = [f.result() for f in futures]\n",
    "\n",
    "assert results_with_pywren_map == results_with_python_map\n",
    "print(\"success\")"
   ]
  },
  {
   "cell_type": "markdown",
   "metadata": {},
   "source": [
    "One caveat above is that calls to `result()` are run serially, as `result()` blocks on a task to finish. This can be inefficient with a large number of parallel tasks. In PyWren, we provide a convenient API ***pywren.wait()*** to wait on all tasks to finish.  \n",
    "***Execute*** the code below to see how `wait()`works."
   ]
  },
  {
   "cell_type": "code",
   "execution_count": 6,
   "metadata": {
    "collapsed": true
   },
   "outputs": [
    {
     "name": "stdout",
     "output_type": "stream",
     "text": [
      "success\n"
     ]
    }
   ],
   "source": [
    "pywren.wait(futures)\n",
    "results_with_pywren_map = [f.result() for f in futures]\n",
    "\n",
    "assert results_with_pywren_map == results_with_python_map\n",
    "print(\"success\")"
   ]
  },
  {
   "cell_type": "markdown",
   "metadata": {},
   "source": [
    "Because the tasks in the futures have been executed before, the above code should finish immediately.  \n",
    "We also have ***pywren.get_all_results()***, which is just a convenient way to do `wait()` and fetch results all together.  \n",
    "***Execute*** the code below to see how `get_all_results()`works"
   ]
  },
  {
   "cell_type": "code",
   "execution_count": 7,
   "metadata": {
    "collapsed": true
   },
   "outputs": [
    {
     "name": "stdout",
     "output_type": "stream",
     "text": [
      "success\n"
     ]
    }
   ],
   "source": [
    "results_with_pywren_map = pywren.get_all_results(futures)\n",
    "assert results_with_pywren_map == results_with_python_map\n",
    "print(\"success\")"
   ]
  },
  {
   "cell_type": "markdown",
   "metadata": {},
   "source": [
    "## 3. multiple jobs\n",
    "\n",
    "Putting things together, we can use `map()` to execute a function over an iterable of parameters in parallel in cloud.\n",
    "Then we can call `pywren.get_all_results()` to fetch all results.\n",
    "Because `map()` returns immediately after all tasks are invoked. We can switch to other work before calling and blocking on `pywren.get_all_results()` for the results. This also includes invoking another PyWren job.\n",
    "\n",
    "In the code below, we want to verify the distributive law of matrix-vector multiplication, i.e., A(x+y) = Ax + Ay. To do that, we invoke two PyWren jobs, one computing 50 instances of A(x+y) and the other computing 50 instances of Ax + Ay. As we pass the same random seeds to the jobs, results returned by the two jobs should be same, according to the distributive law holds.\n",
    "\n",
    "***Exercise:*** Update the return statement for `multiply_1` and `multiply_2` to complete the verification program."
   ]
  },
  {
   "cell_type": "code",
   "execution_count": 8,
   "metadata": {
    "collapsed": true
   },
   "outputs": [
    {
     "name": "stdout",
     "output_type": "stream",
     "text": [
      "success\n"
     ]
    }
   ],
   "source": [
    "import numpy as np\n",
    "\n",
    "def multiply_1(seed):\n",
    "    np.random.seed(seed)\n",
    "    A = np.random.normal(0, 1, (1024, 131072))\n",
    "    x = np.random.normal(0, 1, 131072)\n",
    "    y = np.random.normal(0, 1, 131072)\n",
    "    # compute A * (x+y)\n",
    "    return np.dot(A, x+y)\n",
    "\n",
    "def multiply_2(seed):\n",
    "    np.random.seed(seed)\n",
    "    A = np.random.normal(0, 1, (1024, 131072))\n",
    "    x = np.random.normal(0, 1, 131072)\n",
    "    y = np.random.normal(0, 1, 131072)\n",
    "    # compute Ax + Ay\n",
    "    return np.dot(A, x) + np.dot(A, y)\n",
    "\n",
    "futures_1 = pwex.map(multiply_1, range(50))\n",
    "futures_2 = pwex.map(multiply_2, range(50))\n",
    "\n",
    "results_1 = pywren.get_all_results(futures_1)\n",
    "results_2 = pywren.get_all_results(futures_2)\n",
    "\n",
    "assert np.all(np.isclose(np.stack(results_1) , np.stack(results_2)))\n",
    "print(\"success\")"
   ]
  },
  {
   "cell_type": "markdown",
   "metadata": {},
   "source": [
    "## 4. Visualization and Debugging\n",
    "\n",
    "### Plotting\n",
    "You have probably been wondering where time is spent during a PyWren job. Here we provide a method to plot the execution graph of a PyWren job for you. We'll just reuse data from the maxtrix multiplication exercise as an example.\n",
    "\n",
    "***Execute*** the plotting code below."
   ]
  },
  {
   "cell_type": "code",
   "execution_count": 9,
   "metadata": {
    "collapsed": true
   },
   "outputs": [
    {
     "ename": "ModuleNotFoundError",
     "evalue": "No module named 'training'",
     "traceback": [
      "\u001b[0;31m---------------------------------------------------------------------------\u001b[0m",
      "\u001b[0;31mModuleNotFoundError\u001b[0m                       Traceback (most recent call last)",
      "\u001b[0;32m<ipython-input-9-5d159ae97d49>\u001b[0m in \u001b[0;36m<module>\u001b[0;34m()\u001b[0m\n\u001b[1;32m      1\u001b[0m \u001b[0;31m# load the plotting method\u001b[0m\u001b[0;34m\u001b[0m\u001b[0;34m\u001b[0m\u001b[0m\n\u001b[0;32m----> 2\u001b[0;31m \u001b[0;32mfrom\u001b[0m \u001b[0mtraining\u001b[0m \u001b[0;32mimport\u001b[0m \u001b[0mplot_pywren_execution\u001b[0m\u001b[0;34m\u001b[0m\u001b[0m\n\u001b[0m\u001b[1;32m      3\u001b[0m \u001b[0;34m\u001b[0m\u001b[0m\n\u001b[1;32m      4\u001b[0m \u001b[0mplot_pywren_execution\u001b[0m\u001b[0;34m(\u001b[0m\u001b[0mfutures_1\u001b[0m \u001b[0;34m+\u001b[0m \u001b[0mfutures_2\u001b[0m\u001b[0;34m)\u001b[0m\u001b[0;34m\u001b[0m\u001b[0m\n",
      "\u001b[0;31mModuleNotFoundError\u001b[0m: No module named 'training'"
     ],
     "output_type": "error"
    }
   ],
   "source": [
    "# load the plotting method\n",
    "from training import plot_pywren_execution\n",
    "\n",
    "plot_pywren_execution(futures_1 + futures_2)"
   ]
  },
  {
   "cell_type": "markdown",
   "metadata": {},
   "source": [
    "You can see that the tasks are submitted in two batches. Each batch belongs to one PyWren job. The two jobs are indeed running in parallel! "
   ]
  },
  {
   "cell_type": "markdown",
   "metadata": {},
   "source": [
    "### Logging\n",
    "\n",
    "For the advanced exercises, you might find yourself waiting for a large PyWren to finish and would like to know job progress. To do that, you can run `pywren.wrenlogging.default_config(\"INFO\")` **before** running a job to get detailed logs during execution. To disable detailed logs, switch the logging info back to `ERROR` by running `pywren.wrenlogging.default_config(\"ERROR\")`.\n",
    "\n",
    "\n",
    "***Execute*** code below to observe logs."
   ]
  },
  {
   "cell_type": "code",
   "execution_count": 10,
   "metadata": {
    "collapsed": true
   },
   "outputs": [
    {
     "name": "stderr",
     "output_type": "stream",
     "text": [
      "2018-10-12 17:57:42,264 [INFO] pywren.executor: map 93815540-0ef9-4c4c-9299-7eb84216aba6 00000 apply async\n",
      "2018-10-12 17:57:42,265 [INFO] pywren.executor: call_async 93815540-0ef9-4c4c-9299-7eb84216aba6 00000 lambda invoke \n",
      "2018-10-12 17:57:42,265 [INFO] pywren.executor: map 93815540-0ef9-4c4c-9299-7eb84216aba6 00001 apply async\n",
      "2018-10-12 17:57:42,267 [INFO] pywren.executor: call_async 93815540-0ef9-4c4c-9299-7eb84216aba6 00001 lambda invoke \n",
      "2018-10-12 17:57:42,267 [INFO] pywren.executor: map 93815540-0ef9-4c4c-9299-7eb84216aba6 00002 apply async\n",
      "2018-10-12 17:57:42,269 [INFO] pywren.executor: call_async 93815540-0ef9-4c4c-9299-7eb84216aba6 00002 lambda invoke \n",
      "2018-10-12 17:57:42,270 [INFO] pywren.executor: map 93815540-0ef9-4c4c-9299-7eb84216aba6 00003 apply async\n",
      "2018-10-12 17:57:42,271 [INFO] pywren.executor: call_async 93815540-0ef9-4c4c-9299-7eb84216aba6 00003 lambda invoke \n",
      "2018-10-12 17:57:42,273 [INFO] pywren.executor: map 93815540-0ef9-4c4c-9299-7eb84216aba6 00004 apply async\n",
      "2018-10-12 17:57:42,273 [INFO] pywren.executor: call_async 93815540-0ef9-4c4c-9299-7eb84216aba6 00004 lambda invoke \n",
      "2018-10-12 17:57:42,275 [INFO] pywren.executor: map 93815540-0ef9-4c4c-9299-7eb84216aba6 00005 apply async\n",
      "2018-10-12 17:57:42,276 [INFO] pywren.executor: call_async 93815540-0ef9-4c4c-9299-7eb84216aba6 00005 lambda invoke \n",
      "2018-10-12 17:57:42,278 [INFO] pywren.executor: map 93815540-0ef9-4c4c-9299-7eb84216aba6 00006 apply async\n",
      "2018-10-12 17:57:42,279 [INFO] pywren.executor: call_async 93815540-0ef9-4c4c-9299-7eb84216aba6 00006 lambda invoke \n",
      "2018-10-12 17:57:42,281 [INFO] pywren.executor: map 93815540-0ef9-4c4c-9299-7eb84216aba6 00007 apply async\n",
      "2018-10-12 17:57:42,281 [INFO] pywren.executor: call_async 93815540-0ef9-4c4c-9299-7eb84216aba6 00007 lambda invoke \n",
      "2018-10-12 17:57:42,283 [INFO] pywren.executor: map 93815540-0ef9-4c4c-9299-7eb84216aba6 00008 apply async\n",
      "2018-10-12 17:57:42,284 [INFO] pywren.executor: call_async 93815540-0ef9-4c4c-9299-7eb84216aba6 00008 lambda invoke \n",
      "2018-10-12 17:57:42,288 [INFO] pywren.executor: map 93815540-0ef9-4c4c-9299-7eb84216aba6 00009 apply async\n",
      "2018-10-12 17:57:42,288 [INFO] pywren.executor: call_async 93815540-0ef9-4c4c-9299-7eb84216aba6 00009 lambda invoke \n",
      "2018-10-12 17:57:42,302 [INFO] pywren.executor: call_async 93815540-0ef9-4c4c-9299-7eb84216aba6 00003 lambda invoke complete\n",
      "2018-10-12 17:57:42,307 [INFO] pywren.executor: call_async 93815540-0ef9-4c4c-9299-7eb84216aba6 00004 lambda invoke complete\n",
      "2018-10-12 17:57:42,307 [INFO] pywren.executor: call_async 93815540-0ef9-4c4c-9299-7eb84216aba6 00000 lambda invoke complete\n",
      "2018-10-12 17:57:42,308 [INFO] pywren.executor: call_async 93815540-0ef9-4c4c-9299-7eb84216aba6 00005 lambda invoke complete\n",
      "2018-10-12 17:57:42,309 [INFO] pywren.executor: call_async 93815540-0ef9-4c4c-9299-7eb84216aba6 00002 lambda invoke complete\n",
      "2018-10-12 17:57:42,310 [INFO] pywren.executor: call_async 93815540-0ef9-4c4c-9299-7eb84216aba6 00007 lambda invoke complete\n",
      "2018-10-12 17:57:42,311 [INFO] pywren.executor: call_async 93815540-0ef9-4c4c-9299-7eb84216aba6 00006 lambda invoke complete\n",
      "2018-10-12 17:57:42,318 [INFO] pywren.executor: call_async 93815540-0ef9-4c4c-9299-7eb84216aba6 00008 lambda invoke complete\n",
      "2018-10-12 17:57:42,352 [INFO] pywren.executor: call_async 93815540-0ef9-4c4c-9299-7eb84216aba6 00009 lambda invoke complete\n",
      "2018-10-12 17:57:42,354 [INFO] pywren.executor: call_async 93815540-0ef9-4c4c-9299-7eb84216aba6 00001 lambda invoke complete\n",
      "2018-10-12 17:57:42,436 [INFO] pywren.executor: map invoked 93815540-0ef9-4c4c-9299-7eb84216aba6 00009 pool join\n",
      "2018-10-12 17:57:42,450 [INFO] botocore.credentials: Found credentials in environment variables.\n",
      "2018-10-12 17:57:46,887 [INFO] pywren.future: ResponseFuture.result() 93815540-0ef9-4c4c-9299-7eb84216aba6 00000 call_success True\n",
      "2018-10-12 17:57:46,901 [INFO] botocore.credentials: Found credentials in environment variables.\n",
      "2018-10-12 17:57:47,274 [INFO] pywren.future: ResponseFuture.result() 93815540-0ef9-4c4c-9299-7eb84216aba6 00001 call_success True\n",
      "2018-10-12 17:57:47,287 [INFO] botocore.credentials: Found credentials in environment variables.\n",
      "2018-10-12 17:57:47,721 [INFO] pywren.future: ResponseFuture.result() 93815540-0ef9-4c4c-9299-7eb84216aba6 00002 call_success True\n",
      "2018-10-12 17:57:47,735 [INFO] botocore.credentials: Found credentials in environment variables.\n",
      "2018-10-12 17:57:49,112 [INFO] pywren.future: ResponseFuture.result() 93815540-0ef9-4c4c-9299-7eb84216aba6 00003 call_success True\n",
      "2018-10-12 17:57:49,125 [INFO] botocore.credentials: Found credentials in environment variables.\n",
      "2018-10-12 17:57:49,512 [INFO] pywren.future: ResponseFuture.result() 93815540-0ef9-4c4c-9299-7eb84216aba6 00004 call_success True\n",
      "2018-10-12 17:57:49,526 [INFO] botocore.credentials: Found credentials in environment variables.\n",
      "2018-10-12 17:57:49,929 [INFO] pywren.future: ResponseFuture.result() 93815540-0ef9-4c4c-9299-7eb84216aba6 00005 call_success True\n",
      "2018-10-12 17:57:49,942 [INFO] botocore.credentials: Found credentials in environment variables.\n",
      "2018-10-12 17:57:50,310 [INFO] pywren.future: ResponseFuture.result() 93815540-0ef9-4c4c-9299-7eb84216aba6 00006 call_success True\n",
      "2018-10-12 17:57:50,323 [INFO] botocore.credentials: Found credentials in environment variables.\n",
      "2018-10-12 17:57:50,675 [INFO] pywren.future: ResponseFuture.result() 93815540-0ef9-4c4c-9299-7eb84216aba6 00007 call_success True\n",
      "2018-10-12 17:57:50,689 [INFO] botocore.credentials: Found credentials in environment variables.\n",
      "2018-10-12 17:57:51,046 [INFO] pywren.future: ResponseFuture.result() 93815540-0ef9-4c4c-9299-7eb84216aba6 00008 call_success True\n",
      "2018-10-12 17:57:51,060 [INFO] botocore.credentials: Found credentials in environment variables.\n",
      "2018-10-12 17:57:51,469 [INFO] pywren.future: ResponseFuture.result() 93815540-0ef9-4c4c-9299-7eb84216aba6 00009 call_success True\n"
     ]
    },
    {
     "name": "stdout",
     "output_type": "stream",
     "text": [
      "success\n"
     ]
    }
   ],
   "source": [
    "# switch logging level to INFO\n",
    "pywren.wrenlogging.default_config(\"INFO\")\n",
    "\n",
    "futures = pwex.map(square, param_list)\n",
    "results_with_pywren_map = [f.result() for f in futures]\n",
    "\n",
    "assert results_with_pywren_map == results_with_python_map\n",
    "print(\"success\")\n",
    "\n",
    "# switch logging level back to ERROR\n",
    "pywren.wrenlogging.default_config(\"ERROR\")"
   ]
  },
  {
   "cell_type": "markdown",
   "metadata": {},
   "source": [
    "Advanced users might also find it useful to check the logs of remote execution. You can use `pywren print-latest-logs` to print latest logs of Lambda execution.\n",
    "\n",
    "***Execute*** the command below to observe remote logs."
   ]
  },
  {
   "cell_type": "code",
   "execution_count": 11,
   "metadata": {
    "collapsed": true
   },
   "outputs": [
    {
     "name": "stdout",
     "output_type": "stream",
     "text": [
      "Usage: pywren [OPTIONS] COMMAND [ARGS]...\n",
      "Try \"pywren --help\" for help.\n",
      "\n",
      "Error: No such command \"print-latest-logs\".\n"
     ]
    }
   ],
   "source": [
    "!pywren print-latest-logs"
   ]
  },
  {
   "cell_type": "markdown",
   "metadata": {},
   "source": [
    "Congratulations! This concludes our introduction exercises.\n",
    "\n",
    "Now it is time to try out more challanges exercises with PyWren! Click on any one of them to continue:\n",
    "\n",
    "- data analysis on a wikipedia dataset (see [analyze-wikipedia.ipynb](../analyze-wikipedia.ipynb))\n",
    "- matrix multiplication with PyWren (see [matrix-computations-advanced.ipynb](../matrix-computations-advanced.ipynb))\n",
    "- hyperparameter optimization (see [hyperparameter-optimization.ipynb](../hyperparameter-optimization.ipynb))\n",
    "\n"
   ]
  }
 ],
 "metadata": {
  "kernelspec": {
   "display_name": "Python 3",
   "language": "python",
   "name": "python3"
  },
  "language_info": {
   "codemirror_mode": {
    "name": "ipython",
    "version": 3
   },
   "file_extension": ".py",
   "mimetype": "text/x-python",
   "name": "python",
   "nbconvert_exporter": "python",
   "pygments_lexer": "ipython3",
   "version": "3.6.3"
  }
 },
 "nbformat": 4,
 "nbformat_minor": 2
}
